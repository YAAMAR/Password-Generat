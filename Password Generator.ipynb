{
 "cells": [
  {
   "cell_type": "markdown",
   "id": "8404ae9b-2e28-4a3e-9c2e-9c142b49e5bb",
   "metadata": {},
   "source": [
    "Password Generator"
   ]
  },
  {
   "cell_type": "markdown",
   "id": "133ba84f-0492-4015-baae-ee1e3e9412af",
   "metadata": {},
   "source": [
    "🎯 Goal\n",
    "Create a password generator that:\n",
    "\n",
    "Lets the user choose the password length\n",
    "\n",
    "Mixes uppercase, lowercase, numbers, and symbols\n",
    "\n",
    "Generates a secure random password"
   ]
  },
  {
   "cell_type": "markdown",
   "id": "5199a1cc-a1c1-48ba-bc2a-8b439bc637a1",
   "metadata": {},
   "source": [
    "Import Modules"
   ]
  },
  {
   "cell_type": "code",
   "execution_count": 1,
   "id": "bc9b5093-a62a-42ef-9628-24a3b57ccf6f",
   "metadata": {},
   "outputs": [],
   "source": [
    "import random\n",
    "import string\n"
   ]
  },
  {
   "cell_type": "markdown",
   "id": "2c50e63a-670e-46e7-8d72-79287c270188",
   "metadata": {},
   "source": [
    "Define Password Generator Function"
   ]
  },
  {
   "cell_type": "code",
   "execution_count": 2,
   "id": "1a451230-4b99-4cfe-8874-4e3b62cc02f6",
   "metadata": {},
   "outputs": [],
   "source": [
    "def generate_password(length):\n",
    "    characters = string.ascii_letters + string.digits + string.punctuation\n",
    "    password = ''.join(random.choice(characters) for _ in range(length))\n",
    "    return password\n"
   ]
  },
  {
   "cell_type": "markdown",
   "id": "c4e60320-8e72-41c3-9539-7e4cdd910b9e",
   "metadata": {},
   "source": [
    " Take User Input"
   ]
  },
  {
   "cell_type": "code",
   "execution_count": 3,
   "id": "74d469a2-b9d7-4b57-b7b0-13e1f38cd3d7",
   "metadata": {},
   "outputs": [
    {
     "name": "stdin",
     "output_type": "stream",
     "text": [
      "Enter desired password length:  234\n"
     ]
    },
    {
     "name": "stdout",
     "output_type": "stream",
     "text": [
      "Your secure password is: 2;hC,~my$;Z~''og>&aX#.VAjd:uZVl&W9R7lPKoF3F^#Ltnp9y%CU$4llL$=VOh{?kfG+CYX$:Q:;zwN_dny(z\"se.@sl|l$Q8xA!y{bFlKY$2fwsAP:_NGuYmDn%\"QtiN\\Jl+mHBVs&uVp00r?[WAZ^v}>^(w&.F<>?H'RU.;:IdcrivXDEL?HSPm8Vj`D57;_0|3/bl-LPHz{li)Nn5&\\^fFetJ4VZER[EF-e2z\n"
     ]
    }
   ],
   "source": [
    "try:\n",
    "    length = int(input(\"Enter desired password length: \"))\n",
    "    if length < 4:\n",
    "        print(\"Password length should be at least 4 characters.\")\n",
    "    else:\n",
    "        password = generate_password(length)\n",
    "        print(\"Your secure password is:\", password)\n",
    "except ValueError:\n",
    "    print(\"Please enter a valid number.\")\n"
   ]
  },
  {
   "cell_type": "code",
   "execution_count": null,
   "id": "a3a46323-fdaf-445c-9508-42d324eb9b15",
   "metadata": {},
   "outputs": [],
   "source": []
  }
 ],
 "metadata": {
  "kernelspec": {
   "display_name": "Python 3 (ipykernel)",
   "language": "python",
   "name": "python3"
  },
  "language_info": {
   "codemirror_mode": {
    "name": "ipython",
    "version": 3
   },
   "file_extension": ".py",
   "mimetype": "text/x-python",
   "name": "python",
   "nbconvert_exporter": "python",
   "pygments_lexer": "ipython3",
   "version": "3.12.7"
  }
 },
 "nbformat": 4,
 "nbformat_minor": 5
}
